{
 "cells": [
  {
   "cell_type": "markdown",
   "metadata": {},
   "source": [
    "##### Think of a dataframe as a spreadsheet\n",
    "* Import numpy, pandas\n",
    "* Import Series and DataFrame from Pandas\n",
    "* Means don't need to use pd.Series and pd.DataFrame\n",
    "* just use Series and DataFrame on their own"
   ]
  },
  {
   "cell_type": "code",
   "execution_count": 2,
   "metadata": {
    "collapsed": true
   },
   "outputs": [],
   "source": [
    "import numpy as np\n",
    "from pandas import Series, DataFrame\n",
    "import pandas as pd"
   ]
  },
  {
   "cell_type": "markdown",
   "metadata": {},
   "source": [
    "#####Create DataFrame"
   ]
  },
  {
   "cell_type": "code",
   "execution_count": 3,
   "metadata": {
    "collapsed": false
   },
   "outputs": [
    {
     "data": {
      "text/html": [
       "<div>\n",
       "<table border=\"1\" class=\"dataframe\">\n",
       "  <thead>\n",
       "    <tr style=\"text-align: right;\">\n",
       "      <th></th>\n",
       "      <th>0</th>\n",
       "      <th>1</th>\n",
       "      <th>2</th>\n",
       "      <th>3</th>\n",
       "      <th>4</th>\n",
       "    </tr>\n",
       "  </thead>\n",
       "  <tbody>\n",
       "    <tr>\n",
       "      <th>0</th>\n",
       "      <td>0.521700</td>\n",
       "      <td>-1.900421</td>\n",
       "      <td>-1.508757</td>\n",
       "      <td>0.482128</td>\n",
       "      <td>0.718111</td>\n",
       "    </tr>\n",
       "    <tr>\n",
       "      <th>1</th>\n",
       "      <td>-2.318732</td>\n",
       "      <td>0.918145</td>\n",
       "      <td>1.366618</td>\n",
       "      <td>-0.041341</td>\n",
       "      <td>-1.797444</td>\n",
       "    </tr>\n",
       "    <tr>\n",
       "      <th>2</th>\n",
       "      <td>0.974114</td>\n",
       "      <td>0.313366</td>\n",
       "      <td>0.333189</td>\n",
       "      <td>-0.498568</td>\n",
       "      <td>0.374374</td>\n",
       "    </tr>\n",
       "    <tr>\n",
       "      <th>3</th>\n",
       "      <td>-0.897284</td>\n",
       "      <td>0.816264</td>\n",
       "      <td>-0.932626</td>\n",
       "      <td>1.331457</td>\n",
       "      <td>0.022798</td>\n",
       "    </tr>\n",
       "    <tr>\n",
       "      <th>4</th>\n",
       "      <td>-0.131296</td>\n",
       "      <td>0.580582</td>\n",
       "      <td>1.410864</td>\n",
       "      <td>-0.067944</td>\n",
       "      <td>0.103349</td>\n",
       "    </tr>\n",
       "    <tr>\n",
       "      <th>5</th>\n",
       "      <td>1.106520</td>\n",
       "      <td>1.256398</td>\n",
       "      <td>-0.761792</td>\n",
       "      <td>-0.255498</td>\n",
       "      <td>0.126883</td>\n",
       "    </tr>\n",
       "    <tr>\n",
       "      <th>6</th>\n",
       "      <td>-1.015199</td>\n",
       "      <td>1.289846</td>\n",
       "      <td>0.313741</td>\n",
       "      <td>1.890451</td>\n",
       "      <td>-0.649145</td>\n",
       "    </tr>\n",
       "    <tr>\n",
       "      <th>7</th>\n",
       "      <td>-0.045997</td>\n",
       "      <td>-1.704738</td>\n",
       "      <td>0.427509</td>\n",
       "      <td>-0.078098</td>\n",
       "      <td>0.552546</td>\n",
       "    </tr>\n",
       "    <tr>\n",
       "      <th>8</th>\n",
       "      <td>2.185499</td>\n",
       "      <td>-0.069382</td>\n",
       "      <td>0.228649</td>\n",
       "      <td>0.013664</td>\n",
       "      <td>2.594100</td>\n",
       "    </tr>\n",
       "    <tr>\n",
       "      <th>9</th>\n",
       "      <td>-0.383852</td>\n",
       "      <td>-0.649236</td>\n",
       "      <td>0.584065</td>\n",
       "      <td>-0.207846</td>\n",
       "      <td>1.446755</td>\n",
       "    </tr>\n",
       "  </tbody>\n",
       "</table>\n",
       "</div>"
      ],
      "text/plain": [
       "          0         1         2         3         4\n",
       "0  0.521700 -1.900421 -1.508757  0.482128  0.718111\n",
       "1 -2.318732  0.918145  1.366618 -0.041341 -1.797444\n",
       "2  0.974114  0.313366  0.333189 -0.498568  0.374374\n",
       "3 -0.897284  0.816264 -0.932626  1.331457  0.022798\n",
       "4 -0.131296  0.580582  1.410864 -0.067944  0.103349\n",
       "5  1.106520  1.256398 -0.761792 -0.255498  0.126883\n",
       "6 -1.015199  1.289846  0.313741  1.890451 -0.649145\n",
       "7 -0.045997 -1.704738  0.427509 -0.078098  0.552546\n",
       "8  2.185499 -0.069382  0.228649  0.013664  2.594100\n",
       "9 -0.383852 -0.649236  0.584065 -0.207846  1.446755"
      ]
     },
     "execution_count": 3,
     "metadata": {},
     "output_type": "execute_result"
    }
   ],
   "source": [
    "# Create a dframe of random numbers\n",
    "# 10 rows by 5 columns\n",
    "dframe1 = DataFrame(np.random.randn(10, 5))\n",
    "#Show\n",
    "dframe1"
   ]
  },
  {
   "cell_type": "code",
   "execution_count": 4,
   "metadata": {
    "collapsed": false
   },
   "outputs": [
    {
     "data": {
      "text/html": [
       "<div>\n",
       "<table border=\"1\" class=\"dataframe\">\n",
       "  <thead>\n",
       "    <tr style=\"text-align: right;\">\n",
       "      <th></th>\n",
       "      <th>A</th>\n",
       "      <th>B</th>\n",
       "      <th>C</th>\n",
       "      <th>D</th>\n",
       "      <th>E</th>\n",
       "    </tr>\n",
       "  </thead>\n",
       "  <tbody>\n",
       "    <tr>\n",
       "      <th>0</th>\n",
       "      <td>1.104639</td>\n",
       "      <td>0.887640</td>\n",
       "      <td>-0.182249</td>\n",
       "      <td>-0.887281</td>\n",
       "      <td>-1.427789</td>\n",
       "    </tr>\n",
       "    <tr>\n",
       "      <th>1</th>\n",
       "      <td>-2.169318</td>\n",
       "      <td>0.352982</td>\n",
       "      <td>-0.311289</td>\n",
       "      <td>0.563314</td>\n",
       "      <td>0.326233</td>\n",
       "    </tr>\n",
       "    <tr>\n",
       "      <th>2</th>\n",
       "      <td>-0.715795</td>\n",
       "      <td>1.643990</td>\n",
       "      <td>0.466954</td>\n",
       "      <td>-0.673816</td>\n",
       "      <td>0.737302</td>\n",
       "    </tr>\n",
       "    <tr>\n",
       "      <th>3</th>\n",
       "      <td>0.886736</td>\n",
       "      <td>0.047400</td>\n",
       "      <td>-0.426674</td>\n",
       "      <td>0.650265</td>\n",
       "      <td>0.608863</td>\n",
       "    </tr>\n",
       "    <tr>\n",
       "      <th>4</th>\n",
       "      <td>0.100159</td>\n",
       "      <td>-0.361724</td>\n",
       "      <td>1.969943</td>\n",
       "      <td>-1.416662</td>\n",
       "      <td>0.912996</td>\n",
       "    </tr>\n",
       "    <tr>\n",
       "      <th>5</th>\n",
       "      <td>0.030284</td>\n",
       "      <td>-2.315466</td>\n",
       "      <td>-1.587575</td>\n",
       "      <td>0.123876</td>\n",
       "      <td>1.472344</td>\n",
       "    </tr>\n",
       "    <tr>\n",
       "      <th>6</th>\n",
       "      <td>-1.492480</td>\n",
       "      <td>-0.789705</td>\n",
       "      <td>2.034192</td>\n",
       "      <td>2.146506</td>\n",
       "      <td>1.467509</td>\n",
       "    </tr>\n",
       "    <tr>\n",
       "      <th>7</th>\n",
       "      <td>-1.049171</td>\n",
       "      <td>1.340717</td>\n",
       "      <td>-0.663761</td>\n",
       "      <td>1.067740</td>\n",
       "      <td>0.708187</td>\n",
       "    </tr>\n",
       "    <tr>\n",
       "      <th>8</th>\n",
       "      <td>-0.571558</td>\n",
       "      <td>-0.442610</td>\n",
       "      <td>-1.204019</td>\n",
       "      <td>0.988610</td>\n",
       "      <td>0.768657</td>\n",
       "    </tr>\n",
       "    <tr>\n",
       "      <th>9</th>\n",
       "      <td>-0.043882</td>\n",
       "      <td>0.136008</td>\n",
       "      <td>-1.411152</td>\n",
       "      <td>-1.016765</td>\n",
       "      <td>-0.572815</td>\n",
       "    </tr>\n",
       "  </tbody>\n",
       "</table>\n",
       "</div>"
      ],
      "text/plain": [
       "          A         B         C         D         E\n",
       "0  1.104639  0.887640 -0.182249 -0.887281 -1.427789\n",
       "1 -2.169318  0.352982 -0.311289  0.563314  0.326233\n",
       "2 -0.715795  1.643990  0.466954 -0.673816  0.737302\n",
       "3  0.886736  0.047400 -0.426674  0.650265  0.608863\n",
       "4  0.100159 -0.361724  1.969943 -1.416662  0.912996\n",
       "5  0.030284 -2.315466 -1.587575  0.123876  1.472344\n",
       "6 -1.492480 -0.789705  2.034192  2.146506  1.467509\n",
       "7 -1.049171  1.340717 -0.663761  1.067740  0.708187\n",
       "8 -0.571558 -0.442610 -1.204019  0.988610  0.768657\n",
       "9 -0.043882  0.136008 -1.411152 -1.016765 -0.572815"
      ]
     },
     "execution_count": 4,
     "metadata": {},
     "output_type": "execute_result"
    }
   ],
   "source": [
    "# Create a dframe of random numbers\n",
    "# 10 rows by 5 columns\n",
    "# With column names A,B,C,D,E\n",
    "dframe2 = DataFrame(np.random.randn(10, 5),\n",
    "                    columns=['A', 'B', 'C', 'D', 'E'])\n",
    "#Show\n",
    "dframe2"
   ]
  },
  {
   "cell_type": "code",
   "execution_count": 5,
   "metadata": {
    "collapsed": false
   },
   "outputs": [
    {
     "data": {
      "text/html": [
       "<div>\n",
       "<table border=\"1\" class=\"dataframe\">\n",
       "  <thead>\n",
       "    <tr style=\"text-align: right;\">\n",
       "      <th></th>\n",
       "      <th>A</th>\n",
       "      <th>B</th>\n",
       "    </tr>\n",
       "  </thead>\n",
       "  <tbody>\n",
       "    <tr>\n",
       "      <th>NYC</th>\n",
       "      <td>0</td>\n",
       "      <td>1</td>\n",
       "    </tr>\n",
       "    <tr>\n",
       "      <th>LA</th>\n",
       "      <td>2</td>\n",
       "      <td>3</td>\n",
       "    </tr>\n",
       "  </tbody>\n",
       "</table>\n",
       "</div>"
      ],
      "text/plain": [
       "     A  B\n",
       "NYC  0  1\n",
       "LA   2  3"
      ]
     },
     "execution_count": 5,
     "metadata": {},
     "output_type": "execute_result"
    }
   ],
   "source": [
    "# Create a dframe with 4 random numbers\n",
    "# Reshape 2 by 2\n",
    "# Add column name\n",
    "# Add index\n",
    "dframe3 = DataFrame(np.arange(4).reshape(2,2),\n",
    "                    columns=list('AB'),index=['NYC','LA'])\n",
    "\n",
    "#Show\n",
    "dframe3"
   ]
  },
  {
   "cell_type": "code",
   "execution_count": 6,
   "metadata": {
    "collapsed": false
   },
   "outputs": [
    {
     "data": {
      "text/html": [
       "<div>\n",
       "<table border=\"1\" class=\"dataframe\">\n",
       "  <thead>\n",
       "    <tr style=\"text-align: right;\">\n",
       "      <th></th>\n",
       "      <th>A</th>\n",
       "      <th>B</th>\n",
       "      <th>C</th>\n",
       "      <th>D</th>\n",
       "      <th>E</th>\n",
       "    </tr>\n",
       "  </thead>\n",
       "  <tbody>\n",
       "    <tr>\n",
       "      <th>NYC</th>\n",
       "      <td>0</td>\n",
       "      <td>1</td>\n",
       "      <td>2</td>\n",
       "      <td>3</td>\n",
       "      <td>4</td>\n",
       "    </tr>\n",
       "    <tr>\n",
       "      <th>LA</th>\n",
       "      <td>5</td>\n",
       "      <td>6</td>\n",
       "      <td>7</td>\n",
       "      <td>8</td>\n",
       "      <td>9</td>\n",
       "    </tr>\n",
       "    <tr>\n",
       "      <th>SF</th>\n",
       "      <td>10</td>\n",
       "      <td>11</td>\n",
       "      <td>12</td>\n",
       "      <td>13</td>\n",
       "      <td>14</td>\n",
       "    </tr>\n",
       "    <tr>\n",
       "      <th>CHI</th>\n",
       "      <td>15</td>\n",
       "      <td>16</td>\n",
       "      <td>17</td>\n",
       "      <td>18</td>\n",
       "      <td>19</td>\n",
       "    </tr>\n",
       "    <tr>\n",
       "      <th>LON</th>\n",
       "      <td>20</td>\n",
       "      <td>21</td>\n",
       "      <td>22</td>\n",
       "      <td>23</td>\n",
       "      <td>24</td>\n",
       "    </tr>\n",
       "  </tbody>\n",
       "</table>\n",
       "</div>"
      ],
      "text/plain": [
       "      A   B   C   D   E\n",
       "NYC   0   1   2   3   4\n",
       "LA    5   6   7   8   9\n",
       "SF   10  11  12  13  14\n",
       "CHI  15  16  17  18  19\n",
       "LON  20  21  22  23  24"
      ]
     },
     "execution_count": 6,
     "metadata": {},
     "output_type": "execute_result"
    }
   ],
   "source": [
    "# Or use\n",
    "dframe4 = DataFrame(np.arange(25).reshape(5,5),\n",
    "                    columns=['A','B','C','D','E'],\n",
    "                    index=['NYC','LA','SF','CHI','LON'])\n",
    "\n",
    "#Show\n",
    "dframe4"
   ]
  },
  {
   "cell_type": "code",
   "execution_count": 30,
   "metadata": {
    "collapsed": false
   },
   "outputs": [
    {
     "data": {
      "text/html": [
       "<div>\n",
       "<table border=\"1\" class=\"dataframe\">\n",
       "  <thead>\n",
       "    <tr style=\"text-align: right;\">\n",
       "      <th></th>\n",
       "      <th>Analyst</th>\n",
       "      <th>Capital</th>\n",
       "      <th>Country</th>\n",
       "      <th>Population</th>\n",
       "      <th>Rank</th>\n",
       "      <th>Test #</th>\n",
       "    </tr>\n",
       "  </thead>\n",
       "  <tbody>\n",
       "    <tr>\n",
       "      <th>0</th>\n",
       "      <td>Manager01</td>\n",
       "      <td>Moscow</td>\n",
       "      <td>USSR</td>\n",
       "      <td>8700000</td>\n",
       "      <td>1</td>\n",
       "      <td>1</td>\n",
       "    </tr>\n",
       "    <tr>\n",
       "      <th>1</th>\n",
       "      <td>Manager01</td>\n",
       "      <td>Berlin</td>\n",
       "      <td>Germany</td>\n",
       "      <td>4300000</td>\n",
       "      <td>2</td>\n",
       "      <td>1</td>\n",
       "    </tr>\n",
       "    <tr>\n",
       "      <th>2</th>\n",
       "      <td>Manager01</td>\n",
       "      <td>Beijing</td>\n",
       "      <td>China</td>\n",
       "      <td>3000000</td>\n",
       "      <td>3</td>\n",
       "      <td>1</td>\n",
       "    </tr>\n",
       "    <tr>\n",
       "      <th>3</th>\n",
       "      <td>Manager01</td>\n",
       "      <td>Tokyo</td>\n",
       "      <td>Japan</td>\n",
       "      <td>2100000</td>\n",
       "      <td>4</td>\n",
       "      <td>1</td>\n",
       "    </tr>\n",
       "  </tbody>\n",
       "</table>\n",
       "</div>"
      ],
      "text/plain": [
       "     Analyst  Capital  Country  Population  Rank  Test #\n",
       "0  Manager01   Moscow     USSR     8700000     1       1\n",
       "1  Manager01   Berlin  Germany     4300000     2       1\n",
       "2  Manager01  Beijing    China     3000000     3       1\n",
       "3  Manager01    Tokyo    Japan     2100000     4       1"
      ]
     },
     "execution_count": 30,
     "metadata": {},
     "output_type": "execute_result"
    }
   ],
   "source": [
    "# Creating a DataFrame by passing a dict of objects that can be converted to series-like.\n",
    "dframe01 = pd.DataFrame({'Test #' : 1,\n",
    "                    'Country' : pd.Series(['USSR','Germany','China','Japan']),\n",
    "                    'Population' : pd.Series([8700000,4300000,3000000,2100000]),\n",
    "                    'Rank' : np.array([1,2,3,4],dtype='int32'),\n",
    "                    'Capital' : pd.Categorical([\"Moscow\",\"Berlin\",\"Beijing\",\"Tokyo\"]),\n",
    "                    'Analyst' : 'Manager01' })\n",
    "#Show\n",
    "dframe01"
   ]
  },
  {
   "cell_type": "code",
   "execution_count": 31,
   "metadata": {
    "collapsed": false
   },
   "outputs": [
    {
     "data": {
      "text/plain": [
       "Analyst         object\n",
       "Capital       category\n",
       "Country         object\n",
       "Population       int64\n",
       "Rank             int32\n",
       "Test #           int64\n",
       "dtype: object"
      ]
     },
     "execution_count": 31,
     "metadata": {},
     "output_type": "execute_result"
    }
   ],
   "source": [
    "#Show data types\n",
    "dframe01.dtypes"
   ]
  },
  {
   "cell_type": "code",
   "execution_count": 10,
   "metadata": {
    "collapsed": false
   },
   "outputs": [
    {
     "data": {
      "text/html": [
       "<div>\n",
       "<table border=\"1\" class=\"dataframe\">\n",
       "  <thead>\n",
       "    <tr style=\"text-align: right;\">\n",
       "      <th></th>\n",
       "      <th>A</th>\n",
       "      <th>B</th>\n",
       "      <th>C</th>\n",
       "      <th>D</th>\n",
       "      <th>E</th>\n",
       "      <th>F</th>\n",
       "    </tr>\n",
       "  </thead>\n",
       "  <tbody>\n",
       "    <tr>\n",
       "      <th>0</th>\n",
       "      <td>1</td>\n",
       "      <td>2013-01-02</td>\n",
       "      <td>1</td>\n",
       "      <td>3</td>\n",
       "      <td>test</td>\n",
       "      <td>foo</td>\n",
       "    </tr>\n",
       "    <tr>\n",
       "      <th>1</th>\n",
       "      <td>1</td>\n",
       "      <td>2013-01-02</td>\n",
       "      <td>1</td>\n",
       "      <td>3</td>\n",
       "      <td>train</td>\n",
       "      <td>foo</td>\n",
       "    </tr>\n",
       "    <tr>\n",
       "      <th>2</th>\n",
       "      <td>1</td>\n",
       "      <td>2013-01-02</td>\n",
       "      <td>1</td>\n",
       "      <td>3</td>\n",
       "      <td>test</td>\n",
       "      <td>foo</td>\n",
       "    </tr>\n",
       "    <tr>\n",
       "      <th>3</th>\n",
       "      <td>1</td>\n",
       "      <td>2013-01-02</td>\n",
       "      <td>1</td>\n",
       "      <td>3</td>\n",
       "      <td>train</td>\n",
       "      <td>foo</td>\n",
       "    </tr>\n",
       "  </tbody>\n",
       "</table>\n",
       "</div>"
      ],
      "text/plain": [
       "   A          B  C  D      E    F\n",
       "0  1 2013-01-02  1  3   test  foo\n",
       "1  1 2013-01-02  1  3  train  foo\n",
       "2  1 2013-01-02  1  3   test  foo\n",
       "3  1 2013-01-02  1  3  train  foo"
      ]
     },
     "execution_count": 10,
     "metadata": {},
     "output_type": "execute_result"
    }
   ],
   "source": [
    "# Creating a DataFrame by passing a dict of objects that can be converted to series-like.\n",
    "dframe02 = pd.DataFrame({'A' : 1.,\n",
    "                    'B' : pd.Timestamp('20130102'),\n",
    "                    'C' : pd.Series(1,index=list(range(4)),dtype='float32'),\n",
    "                    'D' : np.array([3] * 4,dtype='int32'),\n",
    "                    'E' : pd.Categorical([\"test\",\"train\",\"test\",\"train\"]),\n",
    "                    'F' : 'foo' })\n",
    "#Show\n",
    "dframe02"
   ]
  },
  {
   "cell_type": "markdown",
   "metadata": {},
   "source": [
    "#####Play With NFL Data"
   ]
  },
  {
   "cell_type": "code",
   "execution_count": 17,
   "metadata": {
    "collapsed": false
   },
   "outputs": [
    {
     "data": {
      "text/plain": [
       "True"
      ]
     },
     "execution_count": 17,
     "metadata": {},
     "output_type": "execute_result"
    }
   ],
   "source": [
    "#Let's get some data to play with. How about the NFL?\n",
    "import webbrowser\n",
    "website = 'http://en.wikipedia.org/wiki/NFL_win-loss_records'\n",
    "webbrowser.open(website)"
   ]
  },
  {
   "cell_type": "code",
   "execution_count": 18,
   "metadata": {
    "collapsed": false
   },
   "outputs": [],
   "source": [
    "#Copy first 5 ranked teams and read to get data\n",
    "nfl_frame = pd.read_clipboard()"
   ]
  },
  {
   "cell_type": "code",
   "execution_count": 32,
   "metadata": {
    "collapsed": false
   },
   "outputs": [
    {
     "data": {
      "text/html": [
       "<div>\n",
       "<table border=\"1\" class=\"dataframe\">\n",
       "  <thead>\n",
       "    <tr style=\"text-align: right;\">\n",
       "      <th></th>\n",
       "      <th>Rank</th>\n",
       "      <th>Team</th>\n",
       "      <th>Won</th>\n",
       "      <th>Lost</th>\n",
       "      <th>Tied*</th>\n",
       "      <th>Pct.</th>\n",
       "      <th>First Season</th>\n",
       "      <th>Total Games</th>\n",
       "      <th>Conference</th>\n",
       "    </tr>\n",
       "  </thead>\n",
       "  <tbody>\n",
       "    <tr>\n",
       "      <th>0</th>\n",
       "      <td>1</td>\n",
       "      <td>Dallas Cowboys</td>\n",
       "      <td>510</td>\n",
       "      <td>378</td>\n",
       "      <td>6</td>\n",
       "      <td>0.574</td>\n",
       "      <td>1960</td>\n",
       "      <td>894</td>\n",
       "      <td>NFC East</td>\n",
       "    </tr>\n",
       "    <tr>\n",
       "      <th>1</th>\n",
       "      <td>2</td>\n",
       "      <td>Chicago Bears</td>\n",
       "      <td>752</td>\n",
       "      <td>563</td>\n",
       "      <td>42</td>\n",
       "      <td>0.570</td>\n",
       "      <td>1920</td>\n",
       "      <td>1357</td>\n",
       "      <td>NFC North</td>\n",
       "    </tr>\n",
       "    <tr>\n",
       "      <th>2</th>\n",
       "      <td>3</td>\n",
       "      <td>Green Bay Packers</td>\n",
       "      <td>741</td>\n",
       "      <td>561</td>\n",
       "      <td>37</td>\n",
       "      <td>0.567</td>\n",
       "      <td>1921</td>\n",
       "      <td>1339</td>\n",
       "      <td>NFC North</td>\n",
       "    </tr>\n",
       "    <tr>\n",
       "      <th>3</th>\n",
       "      <td>4</td>\n",
       "      <td>Miami Dolphins</td>\n",
       "      <td>443</td>\n",
       "      <td>345</td>\n",
       "      <td>4</td>\n",
       "      <td>0.562</td>\n",
       "      <td>1966</td>\n",
       "      <td>792</td>\n",
       "      <td>AFC East</td>\n",
       "    </tr>\n",
       "    <tr>\n",
       "      <th>4</th>\n",
       "      <td>5</td>\n",
       "      <td>Baltimore Ravens</td>\n",
       "      <td>182</td>\n",
       "      <td>143</td>\n",
       "      <td>1</td>\n",
       "      <td>0.560</td>\n",
       "      <td>1996</td>\n",
       "      <td>326</td>\n",
       "      <td>AFC North</td>\n",
       "    </tr>\n",
       "  </tbody>\n",
       "</table>\n",
       "</div>"
      ],
      "text/plain": [
       "   Rank               Team  Won  Lost  Tied*   Pct.  First Season  \\\n",
       "0     1     Dallas Cowboys  510   378      6  0.574          1960   \n",
       "1     2      Chicago Bears  752   563     42  0.570          1920   \n",
       "2     3  Green Bay Packers  741   561     37  0.567          1921   \n",
       "3     4     Miami Dolphins  443   345      4  0.562          1966   \n",
       "4     5   Baltimore Ravens  182   143      1  0.560          1996   \n",
       "\n",
       "   Total Games Conference  \n",
       "0          894   NFC East  \n",
       "1         1357  NFC North  \n",
       "2         1339  NFC North  \n",
       "3          792   AFC East  \n",
       "4          326  AFC North  "
      ]
     },
     "execution_count": 32,
     "metadata": {},
     "output_type": "execute_result"
    }
   ],
   "source": [
    "#Show\n",
    "nfl_frame"
   ]
  },
  {
   "cell_type": "markdown",
   "metadata": {},
   "source": [
    "#####Working with DataFrames"
   ]
  },
  {
   "cell_type": "code",
   "execution_count": 33,
   "metadata": {
    "collapsed": false
   },
   "outputs": [
    {
     "data": {
      "text/plain": [
       "Index([u'Rank', u'Team', u'Won', u'Lost', u'Tied*', u'Pct.', u'First Season',\n",
       "       u'Total Games', u'Conference'],\n",
       "      dtype='object')"
      ]
     },
     "execution_count": 33,
     "metadata": {},
     "output_type": "execute_result"
    }
   ],
   "source": [
    "# Grab the column names with .columns\n",
    "nfl_frame.columns"
   ]
  },
  {
   "cell_type": "code",
   "execution_count": 35,
   "metadata": {
    "collapsed": false
   },
   "outputs": [
    {
     "data": {
      "text/plain": [
       "0       Dallas Cowboys\n",
       "1        Chicago Bears\n",
       "2    Green Bay Packers\n",
       "3       Miami Dolphins\n",
       "4     Baltimore Ravens\n",
       "Name: Team, dtype: object"
      ]
     },
     "execution_count": 35,
     "metadata": {},
     "output_type": "execute_result"
    }
   ],
   "source": [
    "# Retrieve individual columns\n",
    "nfl_frame.Team"
   ]
  },
  {
   "cell_type": "code",
   "execution_count": 24,
   "metadata": {
    "collapsed": false
   },
   "outputs": [
    {
     "data": {
      "text/html": [
       "<div>\n",
       "<table border=\"1\" class=\"dataframe\">\n",
       "  <thead>\n",
       "    <tr style=\"text-align: right;\">\n",
       "      <th></th>\n",
       "      <th>Team</th>\n",
       "    </tr>\n",
       "  </thead>\n",
       "  <tbody>\n",
       "    <tr>\n",
       "      <th>0</th>\n",
       "      <td>Dallas Cowboys</td>\n",
       "    </tr>\n",
       "    <tr>\n",
       "      <th>1</th>\n",
       "      <td>Chicago Bears</td>\n",
       "    </tr>\n",
       "    <tr>\n",
       "      <th>2</th>\n",
       "      <td>Green Bay Packers</td>\n",
       "    </tr>\n",
       "    <tr>\n",
       "      <th>3</th>\n",
       "      <td>Miami Dolphins</td>\n",
       "    </tr>\n",
       "    <tr>\n",
       "      <th>4</th>\n",
       "      <td>Baltimore Ravens</td>\n",
       "    </tr>\n",
       "  </tbody>\n",
       "</table>\n",
       "</div>"
      ],
      "text/plain": [
       "                Team\n",
       "0     Dallas Cowboys\n",
       "1      Chicago Bears\n",
       "2  Green Bay Packers\n",
       "3     Miami Dolphins\n",
       "4   Baltimore Ravens"
      ]
     },
     "execution_count": 24,
     "metadata": {},
     "output_type": "execute_result"
    }
   ],
   "source": [
    "# Or use\n",
    "DataFrame(nfl_frame,columns=['Team'])"
   ]
  },
  {
   "cell_type": "code",
   "execution_count": 36,
   "metadata": {
    "collapsed": false
   },
   "outputs": [
    {
     "data": {
      "text/plain": [
       "0    1960\n",
       "1    1920\n",
       "2    1921\n",
       "3    1966\n",
       "4    1996\n",
       "Name: First Season, dtype: int64"
      ]
     },
     "execution_count": 36,
     "metadata": {},
     "output_type": "execute_result"
    }
   ],
   "source": [
    "# Grab values from multi-worded column name\n",
    "nfl_frame['First Season']"
   ]
  },
  {
   "cell_type": "code",
   "execution_count": 37,
   "metadata": {
    "collapsed": false
   },
   "outputs": [
    {
     "data": {
      "text/html": [
       "<div>\n",
       "<table border=\"1\" class=\"dataframe\">\n",
       "  <thead>\n",
       "    <tr style=\"text-align: right;\">\n",
       "      <th></th>\n",
       "      <th>First Season</th>\n",
       "    </tr>\n",
       "  </thead>\n",
       "  <tbody>\n",
       "    <tr>\n",
       "      <th>0</th>\n",
       "      <td>1960</td>\n",
       "    </tr>\n",
       "    <tr>\n",
       "      <th>1</th>\n",
       "      <td>1920</td>\n",
       "    </tr>\n",
       "    <tr>\n",
       "      <th>2</th>\n",
       "      <td>1921</td>\n",
       "    </tr>\n",
       "    <tr>\n",
       "      <th>3</th>\n",
       "      <td>1966</td>\n",
       "    </tr>\n",
       "    <tr>\n",
       "      <th>4</th>\n",
       "      <td>1996</td>\n",
       "    </tr>\n",
       "  </tbody>\n",
       "</table>\n",
       "</div>"
      ],
      "text/plain": [
       "   First Season\n",
       "0          1960\n",
       "1          1920\n",
       "2          1921\n",
       "3          1966\n",
       "4          1996"
      ]
     },
     "execution_count": 37,
     "metadata": {},
     "output_type": "execute_result"
    }
   ],
   "source": [
    "# Or use\n",
    "DataFrame(nfl_frame,columns=['First Season'])"
   ]
  },
  {
   "cell_type": "code",
   "execution_count": 38,
   "metadata": {
    "collapsed": false
   },
   "outputs": [
    {
     "data": {
      "text/html": [
       "<div>\n",
       "<table border=\"1\" class=\"dataframe\">\n",
       "  <thead>\n",
       "    <tr style=\"text-align: right;\">\n",
       "      <th></th>\n",
       "      <th>Team</th>\n",
       "      <th>First Season</th>\n",
       "      <th>Total Games</th>\n",
       "    </tr>\n",
       "  </thead>\n",
       "  <tbody>\n",
       "    <tr>\n",
       "      <th>0</th>\n",
       "      <td>Dallas Cowboys</td>\n",
       "      <td>1960</td>\n",
       "      <td>894</td>\n",
       "    </tr>\n",
       "    <tr>\n",
       "      <th>1</th>\n",
       "      <td>Chicago Bears</td>\n",
       "      <td>1920</td>\n",
       "      <td>1357</td>\n",
       "    </tr>\n",
       "    <tr>\n",
       "      <th>2</th>\n",
       "      <td>Green Bay Packers</td>\n",
       "      <td>1921</td>\n",
       "      <td>1339</td>\n",
       "    </tr>\n",
       "    <tr>\n",
       "      <th>3</th>\n",
       "      <td>Miami Dolphins</td>\n",
       "      <td>1966</td>\n",
       "      <td>792</td>\n",
       "    </tr>\n",
       "    <tr>\n",
       "      <th>4</th>\n",
       "      <td>Baltimore Ravens</td>\n",
       "      <td>1996</td>\n",
       "      <td>326</td>\n",
       "    </tr>\n",
       "  </tbody>\n",
       "</table>\n",
       "</div>"
      ],
      "text/plain": [
       "                Team  First Season  Total Games\n",
       "0     Dallas Cowboys          1960          894\n",
       "1      Chicago Bears          1920         1357\n",
       "2  Green Bay Packers          1921         1339\n",
       "3     Miami Dolphins          1966          792\n",
       "4   Baltimore Ravens          1996          326"
      ]
     },
     "execution_count": 38,
     "metadata": {},
     "output_type": "execute_result"
    }
   ],
   "source": [
    "# Look at some specific data columns\n",
    "DataFrame(nfl_frame,columns=['Team','First Season','Total Games'])"
   ]
  },
  {
   "cell_type": "code",
   "execution_count": 39,
   "metadata": {
    "collapsed": false
   },
   "outputs": [
    {
     "data": {
      "text/plain": [
       "<bound method DataFrame.head of    Rank               Team  Won  Lost  Tied*   Pct.  First Season  \\\n",
       "0     1     Dallas Cowboys  510   378      6  0.574          1960   \n",
       "1     2      Chicago Bears  752   563     42  0.570          1920   \n",
       "2     3  Green Bay Packers  741   561     37  0.567          1921   \n",
       "3     4     Miami Dolphins  443   345      4  0.562          1966   \n",
       "4     5   Baltimore Ravens  182   143      1  0.560          1996   \n",
       "\n",
       "   Total Games Conference  \n",
       "0          894   NFC East  \n",
       "1         1357  NFC North  \n",
       "2         1339  NFC North  \n",
       "3          792   AFC East  \n",
       "4          326  AFC North  >"
      ]
     },
     "execution_count": 39,
     "metadata": {},
     "output_type": "execute_result"
    }
   ],
   "source": [
    "# Retrieve TOP few rows\n",
    "# Default returns first five rows\n",
    "nfl_frame.head"
   ]
  },
  {
   "cell_type": "code",
   "execution_count": 40,
   "metadata": {
    "collapsed": false
   },
   "outputs": [
    {
     "data": {
      "text/html": [
       "<div>\n",
       "<table border=\"1\" class=\"dataframe\">\n",
       "  <thead>\n",
       "    <tr style=\"text-align: right;\">\n",
       "      <th></th>\n",
       "      <th>Rank</th>\n",
       "      <th>Team</th>\n",
       "      <th>Won</th>\n",
       "      <th>Lost</th>\n",
       "      <th>Tied*</th>\n",
       "      <th>Pct.</th>\n",
       "      <th>First Season</th>\n",
       "      <th>Total Games</th>\n",
       "      <th>Conference</th>\n",
       "    </tr>\n",
       "  </thead>\n",
       "  <tbody>\n",
       "    <tr>\n",
       "      <th>0</th>\n",
       "      <td>1</td>\n",
       "      <td>Dallas Cowboys</td>\n",
       "      <td>510</td>\n",
       "      <td>378</td>\n",
       "      <td>6</td>\n",
       "      <td>0.574</td>\n",
       "      <td>1960</td>\n",
       "      <td>894</td>\n",
       "      <td>NFC East</td>\n",
       "    </tr>\n",
       "    <tr>\n",
       "      <th>1</th>\n",
       "      <td>2</td>\n",
       "      <td>Chicago Bears</td>\n",
       "      <td>752</td>\n",
       "      <td>563</td>\n",
       "      <td>42</td>\n",
       "      <td>0.570</td>\n",
       "      <td>1920</td>\n",
       "      <td>1357</td>\n",
       "      <td>NFC North</td>\n",
       "    </tr>\n",
       "    <tr>\n",
       "      <th>2</th>\n",
       "      <td>3</td>\n",
       "      <td>Green Bay Packers</td>\n",
       "      <td>741</td>\n",
       "      <td>561</td>\n",
       "      <td>37</td>\n",
       "      <td>0.567</td>\n",
       "      <td>1921</td>\n",
       "      <td>1339</td>\n",
       "      <td>NFC North</td>\n",
       "    </tr>\n",
       "  </tbody>\n",
       "</table>\n",
       "</div>"
      ],
      "text/plain": [
       "   Rank               Team  Won  Lost  Tied*   Pct.  First Season  \\\n",
       "0     1     Dallas Cowboys  510   378      6  0.574          1960   \n",
       "1     2      Chicago Bears  752   563     42  0.570          1920   \n",
       "2     3  Green Bay Packers  741   561     37  0.567          1921   \n",
       "\n",
       "   Total Games Conference  \n",
       "0          894   NFC East  \n",
       "1         1357  NFC North  \n",
       "2         1339  NFC North  "
      ]
     },
     "execution_count": 40,
     "metadata": {},
     "output_type": "execute_result"
    }
   ],
   "source": [
    "# Retrieve TOP three rows\n",
    "nfl_frame.head(3)"
   ]
  },
  {
   "cell_type": "code",
   "execution_count": 41,
   "metadata": {
    "collapsed": false
   },
   "outputs": [
    {
     "data": {
      "text/html": [
       "<div>\n",
       "<table border=\"1\" class=\"dataframe\">\n",
       "  <thead>\n",
       "    <tr style=\"text-align: right;\">\n",
       "      <th></th>\n",
       "      <th>Rank</th>\n",
       "      <th>Team</th>\n",
       "      <th>Won</th>\n",
       "      <th>Lost</th>\n",
       "      <th>Tied*</th>\n",
       "      <th>Pct.</th>\n",
       "      <th>First Season</th>\n",
       "      <th>Total Games</th>\n",
       "      <th>Conference</th>\n",
       "    </tr>\n",
       "  </thead>\n",
       "  <tbody>\n",
       "    <tr>\n",
       "      <th>2</th>\n",
       "      <td>3</td>\n",
       "      <td>Green Bay Packers</td>\n",
       "      <td>741</td>\n",
       "      <td>561</td>\n",
       "      <td>37</td>\n",
       "      <td>0.567</td>\n",
       "      <td>1921</td>\n",
       "      <td>1339</td>\n",
       "      <td>NFC North</td>\n",
       "    </tr>\n",
       "    <tr>\n",
       "      <th>3</th>\n",
       "      <td>4</td>\n",
       "      <td>Miami Dolphins</td>\n",
       "      <td>443</td>\n",
       "      <td>345</td>\n",
       "      <td>4</td>\n",
       "      <td>0.562</td>\n",
       "      <td>1966</td>\n",
       "      <td>792</td>\n",
       "      <td>AFC East</td>\n",
       "    </tr>\n",
       "    <tr>\n",
       "      <th>4</th>\n",
       "      <td>5</td>\n",
       "      <td>Baltimore Ravens</td>\n",
       "      <td>182</td>\n",
       "      <td>143</td>\n",
       "      <td>1</td>\n",
       "      <td>0.560</td>\n",
       "      <td>1996</td>\n",
       "      <td>326</td>\n",
       "      <td>AFC North</td>\n",
       "    </tr>\n",
       "  </tbody>\n",
       "</table>\n",
       "</div>"
      ],
      "text/plain": [
       "   Rank               Team  Won  Lost  Tied*   Pct.  First Season  \\\n",
       "2     3  Green Bay Packers  741   561     37  0.567          1921   \n",
       "3     4     Miami Dolphins  443   345      4  0.562          1966   \n",
       "4     5   Baltimore Ravens  182   143      1  0.560          1996   \n",
       "\n",
       "   Total Games Conference  \n",
       "2         1339  NFC North  \n",
       "3          792   AFC East  \n",
       "4          326  AFC North  "
      ]
     },
     "execution_count": 41,
     "metadata": {},
     "output_type": "execute_result"
    }
   ],
   "source": [
    "# Retrieve LAST three rows\n",
    "nfl_frame.tail(3)"
   ]
  },
  {
   "cell_type": "code",
   "execution_count": 42,
   "metadata": {
    "collapsed": false
   },
   "outputs": [
    {
     "data": {
      "text/plain": [
       "Rank                         4\n",
       "Team            Miami Dolphins\n",
       "Won                        443\n",
       "Lost                       345\n",
       "Tied*                        4\n",
       "Pct.                     0.562\n",
       "First Season              1966\n",
       "Total Games                792\n",
       "Conference            AFC East\n",
       "Name: 3, dtype: object"
      ]
     },
     "execution_count": 42,
     "metadata": {},
     "output_type": "execute_result"
    }
   ],
   "source": [
    "# Return all values for third row (INDEX 3)\n",
    "# Use ix\n",
    "\n",
    "nfl_frame.ix[3]"
   ]
  },
  {
   "cell_type": "code",
   "execution_count": 43,
   "metadata": {
    "collapsed": false
   },
   "outputs": [
    {
     "data": {
      "text/html": [
       "<div>\n",
       "<table border=\"1\" class=\"dataframe\">\n",
       "  <thead>\n",
       "    <tr style=\"text-align: right;\">\n",
       "      <th></th>\n",
       "      <th>Team</th>\n",
       "      <th>First Season</th>\n",
       "      <th>Total Games</th>\n",
       "      <th>Stadium</th>\n",
       "    </tr>\n",
       "  </thead>\n",
       "  <tbody>\n",
       "    <tr>\n",
       "      <th>0</th>\n",
       "      <td>Dallas Cowboys</td>\n",
       "      <td>1960</td>\n",
       "      <td>894</td>\n",
       "      <td>NaN</td>\n",
       "    </tr>\n",
       "    <tr>\n",
       "      <th>1</th>\n",
       "      <td>Chicago Bears</td>\n",
       "      <td>1920</td>\n",
       "      <td>1357</td>\n",
       "      <td>NaN</td>\n",
       "    </tr>\n",
       "    <tr>\n",
       "      <th>2</th>\n",
       "      <td>Green Bay Packers</td>\n",
       "      <td>1921</td>\n",
       "      <td>1339</td>\n",
       "      <td>NaN</td>\n",
       "    </tr>\n",
       "    <tr>\n",
       "      <th>3</th>\n",
       "      <td>Miami Dolphins</td>\n",
       "      <td>1966</td>\n",
       "      <td>792</td>\n",
       "      <td>NaN</td>\n",
       "    </tr>\n",
       "    <tr>\n",
       "      <th>4</th>\n",
       "      <td>Baltimore Ravens</td>\n",
       "      <td>1996</td>\n",
       "      <td>326</td>\n",
       "      <td>NaN</td>\n",
       "    </tr>\n",
       "  </tbody>\n",
       "</table>\n",
       "</div>"
      ],
      "text/plain": [
       "                Team  First Season  Total Games  Stadium\n",
       "0     Dallas Cowboys          1960          894      NaN\n",
       "1      Chicago Bears          1920         1357      NaN\n",
       "2  Green Bay Packers          1921         1339      NaN\n",
       "3     Miami Dolphins          1966          792      NaN\n",
       "4   Baltimore Ravens          1996          326      NaN"
      ]
     },
     "execution_count": 43,
     "metadata": {},
     "output_type": "execute_result"
    }
   ],
   "source": [
    "# Grab multiple columns\n",
    "# This creates a new data frame\n",
    "# Stadium does not exist in the data frame so returns Nan\n",
    "DataFrame(nfl_frame,\n",
    "          columns=['Team','First Season','Total Games','Stadium'])"
   ]
  },
  {
   "cell_type": "code",
   "execution_count": 45,
   "metadata": {
    "collapsed": false
   },
   "outputs": [
    {
     "data": {
      "text/html": [
       "<div>\n",
       "<table border=\"1\" class=\"dataframe\">\n",
       "  <thead>\n",
       "    <tr style=\"text-align: right;\">\n",
       "      <th></th>\n",
       "      <th>Rank</th>\n",
       "      <th>Team</th>\n",
       "      <th>Won</th>\n",
       "      <th>Lost</th>\n",
       "      <th>Tied*</th>\n",
       "      <th>Pct.</th>\n",
       "      <th>First Season</th>\n",
       "      <th>Total Games</th>\n",
       "      <th>Conference</th>\n",
       "      <th>Stadium</th>\n",
       "    </tr>\n",
       "  </thead>\n",
       "  <tbody>\n",
       "    <tr>\n",
       "      <th>0</th>\n",
       "      <td>1</td>\n",
       "      <td>Dallas Cowboys</td>\n",
       "      <td>510</td>\n",
       "      <td>378</td>\n",
       "      <td>6</td>\n",
       "      <td>0.574</td>\n",
       "      <td>1960</td>\n",
       "      <td>894</td>\n",
       "      <td>NFC East</td>\n",
       "      <td>Levi's Stadium</td>\n",
       "    </tr>\n",
       "    <tr>\n",
       "      <th>1</th>\n",
       "      <td>2</td>\n",
       "      <td>Chicago Bears</td>\n",
       "      <td>752</td>\n",
       "      <td>563</td>\n",
       "      <td>42</td>\n",
       "      <td>0.570</td>\n",
       "      <td>1920</td>\n",
       "      <td>1357</td>\n",
       "      <td>NFC North</td>\n",
       "      <td>Levi's Stadium</td>\n",
       "    </tr>\n",
       "    <tr>\n",
       "      <th>2</th>\n",
       "      <td>3</td>\n",
       "      <td>Green Bay Packers</td>\n",
       "      <td>741</td>\n",
       "      <td>561</td>\n",
       "      <td>37</td>\n",
       "      <td>0.567</td>\n",
       "      <td>1921</td>\n",
       "      <td>1339</td>\n",
       "      <td>NFC North</td>\n",
       "      <td>Levi's Stadium</td>\n",
       "    </tr>\n",
       "    <tr>\n",
       "      <th>3</th>\n",
       "      <td>4</td>\n",
       "      <td>Miami Dolphins</td>\n",
       "      <td>443</td>\n",
       "      <td>345</td>\n",
       "      <td>4</td>\n",
       "      <td>0.562</td>\n",
       "      <td>1966</td>\n",
       "      <td>792</td>\n",
       "      <td>AFC East</td>\n",
       "      <td>Levi's Stadium</td>\n",
       "    </tr>\n",
       "    <tr>\n",
       "      <th>4</th>\n",
       "      <td>5</td>\n",
       "      <td>Baltimore Ravens</td>\n",
       "      <td>182</td>\n",
       "      <td>143</td>\n",
       "      <td>1</td>\n",
       "      <td>0.560</td>\n",
       "      <td>1996</td>\n",
       "      <td>326</td>\n",
       "      <td>AFC North</td>\n",
       "      <td>Levi's Stadium</td>\n",
       "    </tr>\n",
       "  </tbody>\n",
       "</table>\n",
       "</div>"
      ],
      "text/plain": [
       "   Rank               Team  Won  Lost  Tied*   Pct.  First Season  \\\n",
       "0     1     Dallas Cowboys  510   378      6  0.574          1960   \n",
       "1     2      Chicago Bears  752   563     42  0.570          1920   \n",
       "2     3  Green Bay Packers  741   561     37  0.567          1921   \n",
       "3     4     Miami Dolphins  443   345      4  0.562          1966   \n",
       "4     5   Baltimore Ravens  182   143      1  0.560          1996   \n",
       "\n",
       "   Total Games Conference         Stadium  \n",
       "0          894   NFC East  Levi's Stadium  \n",
       "1         1357  NFC North  Levi's Stadium  \n",
       "2         1339  NFC North  Levi's Stadium  \n",
       "3          792   AFC East  Levi's Stadium  \n",
       "4          326  AFC North  Levi's Stadium  "
      ]
     },
     "execution_count": 45,
     "metadata": {},
     "output_type": "execute_result"
    }
   ],
   "source": [
    "# We can also assign values to entire columns\n",
    "# Careful with the ' here\n",
    "nfl_frame['Stadium']=\"Levi's Stadium\"\n",
    "#Show\n",
    "nfl_frame"
   ]
  },
  {
   "cell_type": "code",
   "execution_count": 46,
   "metadata": {
    "collapsed": false
   },
   "outputs": [
    {
     "data": {
      "text/html": [
       "<div>\n",
       "<table border=\"1\" class=\"dataframe\">\n",
       "  <thead>\n",
       "    <tr style=\"text-align: right;\">\n",
       "      <th></th>\n",
       "      <th>Rank</th>\n",
       "      <th>Team</th>\n",
       "      <th>Won</th>\n",
       "      <th>Lost</th>\n",
       "      <th>Tied*</th>\n",
       "      <th>Pct.</th>\n",
       "      <th>First Season</th>\n",
       "      <th>Total Games</th>\n",
       "      <th>Conference</th>\n",
       "      <th>Stadium</th>\n",
       "    </tr>\n",
       "  </thead>\n",
       "  <tbody>\n",
       "    <tr>\n",
       "      <th>0</th>\n",
       "      <td>1</td>\n",
       "      <td>Dallas Cowboys</td>\n",
       "      <td>510</td>\n",
       "      <td>378</td>\n",
       "      <td>6</td>\n",
       "      <td>0.574</td>\n",
       "      <td>1960</td>\n",
       "      <td>894</td>\n",
       "      <td>NFC East</td>\n",
       "      <td>0</td>\n",
       "    </tr>\n",
       "    <tr>\n",
       "      <th>1</th>\n",
       "      <td>2</td>\n",
       "      <td>Chicago Bears</td>\n",
       "      <td>752</td>\n",
       "      <td>563</td>\n",
       "      <td>42</td>\n",
       "      <td>0.570</td>\n",
       "      <td>1920</td>\n",
       "      <td>1357</td>\n",
       "      <td>NFC North</td>\n",
       "      <td>1</td>\n",
       "    </tr>\n",
       "    <tr>\n",
       "      <th>2</th>\n",
       "      <td>3</td>\n",
       "      <td>Green Bay Packers</td>\n",
       "      <td>741</td>\n",
       "      <td>561</td>\n",
       "      <td>37</td>\n",
       "      <td>0.567</td>\n",
       "      <td>1921</td>\n",
       "      <td>1339</td>\n",
       "      <td>NFC North</td>\n",
       "      <td>2</td>\n",
       "    </tr>\n",
       "    <tr>\n",
       "      <th>3</th>\n",
       "      <td>4</td>\n",
       "      <td>Miami Dolphins</td>\n",
       "      <td>443</td>\n",
       "      <td>345</td>\n",
       "      <td>4</td>\n",
       "      <td>0.562</td>\n",
       "      <td>1966</td>\n",
       "      <td>792</td>\n",
       "      <td>AFC East</td>\n",
       "      <td>3</td>\n",
       "    </tr>\n",
       "    <tr>\n",
       "      <th>4</th>\n",
       "      <td>5</td>\n",
       "      <td>Baltimore Ravens</td>\n",
       "      <td>182</td>\n",
       "      <td>143</td>\n",
       "      <td>1</td>\n",
       "      <td>0.560</td>\n",
       "      <td>1996</td>\n",
       "      <td>326</td>\n",
       "      <td>AFC North</td>\n",
       "      <td>4</td>\n",
       "    </tr>\n",
       "  </tbody>\n",
       "</table>\n",
       "</div>"
      ],
      "text/plain": [
       "   Rank               Team  Won  Lost  Tied*   Pct.  First Season  \\\n",
       "0     1     Dallas Cowboys  510   378      6  0.574          1960   \n",
       "1     2      Chicago Bears  752   563     42  0.570          1920   \n",
       "2     3  Green Bay Packers  741   561     37  0.567          1921   \n",
       "3     4     Miami Dolphins  443   345      4  0.562          1966   \n",
       "4     5   Baltimore Ravens  182   143      1  0.560          1996   \n",
       "\n",
       "   Total Games Conference  Stadium  \n",
       "0          894   NFC East        0  \n",
       "1         1357  NFC North        1  \n",
       "2         1339  NFC North        2  \n",
       "3          792   AFC East        3  \n",
       "4          326  AFC North        4  "
      ]
     },
     "execution_count": 46,
     "metadata": {},
     "output_type": "execute_result"
    }
   ],
   "source": [
    "#Putting numbers for stadiums\n",
    "nfl_frame[\"Stadium\"] = np.arange(5)\n",
    "\n",
    "#Show\n",
    "nfl_frame"
   ]
  },
  {
   "cell_type": "code",
   "execution_count": 47,
   "metadata": {
    "collapsed": false
   },
   "outputs": [
    {
     "data": {
      "text/plain": [
       "4    Levi's Stadium\n",
       "0      AT&T Stadium\n",
       "dtype: object"
      ]
     },
     "execution_count": 47,
     "metadata": {},
     "output_type": "execute_result"
    }
   ],
   "source": [
    "#Adding a Series to a DataFrame\n",
    "stadiums = Series([\"Levi's Stadium\",\"AT&T Stadium\"],index=[4,0])\n",
    "#Show\n",
    "stadiums"
   ]
  },
  {
   "cell_type": "code",
   "execution_count": 48,
   "metadata": {
    "collapsed": false
   },
   "outputs": [
    {
     "data": {
      "text/html": [
       "<div>\n",
       "<table border=\"1\" class=\"dataframe\">\n",
       "  <thead>\n",
       "    <tr style=\"text-align: right;\">\n",
       "      <th></th>\n",
       "      <th>Rank</th>\n",
       "      <th>Team</th>\n",
       "      <th>Won</th>\n",
       "      <th>Lost</th>\n",
       "      <th>Tied*</th>\n",
       "      <th>Pct.</th>\n",
       "      <th>First Season</th>\n",
       "      <th>Total Games</th>\n",
       "      <th>Conference</th>\n",
       "      <th>Stadium</th>\n",
       "    </tr>\n",
       "  </thead>\n",
       "  <tbody>\n",
       "    <tr>\n",
       "      <th>0</th>\n",
       "      <td>1</td>\n",
       "      <td>Dallas Cowboys</td>\n",
       "      <td>510</td>\n",
       "      <td>378</td>\n",
       "      <td>6</td>\n",
       "      <td>0.574</td>\n",
       "      <td>1960</td>\n",
       "      <td>894</td>\n",
       "      <td>NFC East</td>\n",
       "      <td>AT&amp;T Stadium</td>\n",
       "    </tr>\n",
       "    <tr>\n",
       "      <th>1</th>\n",
       "      <td>2</td>\n",
       "      <td>Chicago Bears</td>\n",
       "      <td>752</td>\n",
       "      <td>563</td>\n",
       "      <td>42</td>\n",
       "      <td>0.570</td>\n",
       "      <td>1920</td>\n",
       "      <td>1357</td>\n",
       "      <td>NFC North</td>\n",
       "      <td>NaN</td>\n",
       "    </tr>\n",
       "    <tr>\n",
       "      <th>2</th>\n",
       "      <td>3</td>\n",
       "      <td>Green Bay Packers</td>\n",
       "      <td>741</td>\n",
       "      <td>561</td>\n",
       "      <td>37</td>\n",
       "      <td>0.567</td>\n",
       "      <td>1921</td>\n",
       "      <td>1339</td>\n",
       "      <td>NFC North</td>\n",
       "      <td>NaN</td>\n",
       "    </tr>\n",
       "    <tr>\n",
       "      <th>3</th>\n",
       "      <td>4</td>\n",
       "      <td>Miami Dolphins</td>\n",
       "      <td>443</td>\n",
       "      <td>345</td>\n",
       "      <td>4</td>\n",
       "      <td>0.562</td>\n",
       "      <td>1966</td>\n",
       "      <td>792</td>\n",
       "      <td>AFC East</td>\n",
       "      <td>NaN</td>\n",
       "    </tr>\n",
       "    <tr>\n",
       "      <th>4</th>\n",
       "      <td>5</td>\n",
       "      <td>Baltimore Ravens</td>\n",
       "      <td>182</td>\n",
       "      <td>143</td>\n",
       "      <td>1</td>\n",
       "      <td>0.560</td>\n",
       "      <td>1996</td>\n",
       "      <td>326</td>\n",
       "      <td>AFC North</td>\n",
       "      <td>Levi's Stadium</td>\n",
       "    </tr>\n",
       "  </tbody>\n",
       "</table>\n",
       "</div>"
      ],
      "text/plain": [
       "   Rank               Team  Won  Lost  Tied*   Pct.  First Season  \\\n",
       "0     1     Dallas Cowboys  510   378      6  0.574          1960   \n",
       "1     2      Chicago Bears  752   563     42  0.570          1920   \n",
       "2     3  Green Bay Packers  741   561     37  0.567          1921   \n",
       "3     4     Miami Dolphins  443   345      4  0.562          1966   \n",
       "4     5   Baltimore Ravens  182   143      1  0.560          1996   \n",
       "\n",
       "   Total Games Conference         Stadium  \n",
       "0          894   NFC East    AT&T Stadium  \n",
       "1         1357  NFC North             NaN  \n",
       "2         1339  NFC North             NaN  \n",
       "3          792   AFC East             NaN  \n",
       "4          326  AFC North  Levi's Stadium  "
      ]
     },
     "execution_count": 48,
     "metadata": {},
     "output_type": "execute_result"
    }
   ],
   "source": [
    "#Now input into the nfl DataFrame\n",
    "nfl_frame['Stadium']=stadiums\n",
    "\n",
    "#Show\n",
    "nfl_frame"
   ]
  },
  {
   "cell_type": "code",
   "execution_count": 49,
   "metadata": {
    "collapsed": false
   },
   "outputs": [
    {
     "data": {
      "text/html": [
       "<div>\n",
       "<table border=\"1\" class=\"dataframe\">\n",
       "  <thead>\n",
       "    <tr style=\"text-align: right;\">\n",
       "      <th></th>\n",
       "      <th>Rank</th>\n",
       "      <th>Team</th>\n",
       "      <th>Won</th>\n",
       "      <th>Lost</th>\n",
       "      <th>Tied*</th>\n",
       "      <th>Pct.</th>\n",
       "      <th>First Season</th>\n",
       "      <th>Total Games</th>\n",
       "      <th>Conference</th>\n",
       "    </tr>\n",
       "  </thead>\n",
       "  <tbody>\n",
       "    <tr>\n",
       "      <th>0</th>\n",
       "      <td>1</td>\n",
       "      <td>Dallas Cowboys</td>\n",
       "      <td>510</td>\n",
       "      <td>378</td>\n",
       "      <td>6</td>\n",
       "      <td>0.574</td>\n",
       "      <td>1960</td>\n",
       "      <td>894</td>\n",
       "      <td>NFC East</td>\n",
       "    </tr>\n",
       "    <tr>\n",
       "      <th>1</th>\n",
       "      <td>2</td>\n",
       "      <td>Chicago Bears</td>\n",
       "      <td>752</td>\n",
       "      <td>563</td>\n",
       "      <td>42</td>\n",
       "      <td>0.570</td>\n",
       "      <td>1920</td>\n",
       "      <td>1357</td>\n",
       "      <td>NFC North</td>\n",
       "    </tr>\n",
       "    <tr>\n",
       "      <th>2</th>\n",
       "      <td>3</td>\n",
       "      <td>Green Bay Packers</td>\n",
       "      <td>741</td>\n",
       "      <td>561</td>\n",
       "      <td>37</td>\n",
       "      <td>0.567</td>\n",
       "      <td>1921</td>\n",
       "      <td>1339</td>\n",
       "      <td>NFC North</td>\n",
       "    </tr>\n",
       "    <tr>\n",
       "      <th>3</th>\n",
       "      <td>4</td>\n",
       "      <td>Miami Dolphins</td>\n",
       "      <td>443</td>\n",
       "      <td>345</td>\n",
       "      <td>4</td>\n",
       "      <td>0.562</td>\n",
       "      <td>1966</td>\n",
       "      <td>792</td>\n",
       "      <td>AFC East</td>\n",
       "    </tr>\n",
       "    <tr>\n",
       "      <th>4</th>\n",
       "      <td>5</td>\n",
       "      <td>Baltimore Ravens</td>\n",
       "      <td>182</td>\n",
       "      <td>143</td>\n",
       "      <td>1</td>\n",
       "      <td>0.560</td>\n",
       "      <td>1996</td>\n",
       "      <td>326</td>\n",
       "      <td>AFC North</td>\n",
       "    </tr>\n",
       "  </tbody>\n",
       "</table>\n",
       "</div>"
      ],
      "text/plain": [
       "   Rank               Team  Won  Lost  Tied*   Pct.  First Season  \\\n",
       "0     1     Dallas Cowboys  510   378      6  0.574          1960   \n",
       "1     2      Chicago Bears  752   563     42  0.570          1920   \n",
       "2     3  Green Bay Packers  741   561     37  0.567          1921   \n",
       "3     4     Miami Dolphins  443   345      4  0.562          1966   \n",
       "4     5   Baltimore Ravens  182   143      1  0.560          1996   \n",
       "\n",
       "   Total Games Conference  \n",
       "0          894   NFC East  \n",
       "1         1357  NFC North  \n",
       "2         1339  NFC North  \n",
       "3          792   AFC East  \n",
       "4          326  AFC North  "
      ]
     },
     "execution_count": 49,
     "metadata": {},
     "output_type": "execute_result"
    }
   ],
   "source": [
    "#We can also delete columns\n",
    "del nfl_frame['Stadium']\n",
    "\n",
    "nfl_frame"
   ]
  },
  {
   "cell_type": "code",
   "execution_count": 50,
   "metadata": {
    "collapsed": false
   },
   "outputs": [
    {
     "data": {
      "text/html": [
       "<div>\n",
       "<table border=\"1\" class=\"dataframe\">\n",
       "  <thead>\n",
       "    <tr style=\"text-align: right;\">\n",
       "      <th></th>\n",
       "      <th>City</th>\n",
       "      <th>Population</th>\n",
       "    </tr>\n",
       "  </thead>\n",
       "  <tbody>\n",
       "    <tr>\n",
       "      <th>0</th>\n",
       "      <td>SF</td>\n",
       "      <td>837000</td>\n",
       "    </tr>\n",
       "    <tr>\n",
       "      <th>1</th>\n",
       "      <td>LA</td>\n",
       "      <td>3880000</td>\n",
       "    </tr>\n",
       "    <tr>\n",
       "      <th>2</th>\n",
       "      <td>NYC</td>\n",
       "      <td>8400000</td>\n",
       "    </tr>\n",
       "  </tbody>\n",
       "</table>\n",
       "</div>"
      ],
      "text/plain": [
       "  City  Population\n",
       "0   SF      837000\n",
       "1   LA     3880000\n",
       "2  NYC     8400000"
      ]
     },
     "execution_count": 50,
     "metadata": {},
     "output_type": "execute_result"
    }
   ],
   "source": [
    "#DataFrames can be constructed many ways. Another way is from a dictionary of equal length lists\n",
    "data = {'City':['SF','LA','NYC'],\n",
    "        'Population':[837000,3880000,8400000]}\n",
    "\n",
    "city_frame = DataFrame(data)\n",
    "\n",
    "#Show\n",
    "city_frame"
   ]
  },
  {
   "cell_type": "code",
   "execution_count": 51,
   "metadata": {
    "collapsed": false
   },
   "outputs": [
    {
     "data": {
      "text/plain": [
       "True"
      ]
     },
     "execution_count": 51,
     "metadata": {},
     "output_type": "execute_result"
    }
   ],
   "source": [
    "#For full list of ways to create DataFrames from various sources go to teh documentation for pandas:\n",
    "website = 'http://pandas.pydata.org/pandas-docs/dev/generated/pandas.DataFrame.html'\n",
    "webbrowser.open(website)"
   ]
  },
  {
   "cell_type": "code",
   "execution_count": null,
   "metadata": {
    "collapsed": true
   },
   "outputs": [],
   "source": []
  }
 ],
 "metadata": {
  "kernelspec": {
   "display_name": "Python 2",
   "language": "python",
   "name": "python2"
  },
  "language_info": {
   "codemirror_mode": {
    "name": "ipython",
    "version": 2
   },
   "file_extension": ".py",
   "mimetype": "text/x-python",
   "name": "python",
   "nbconvert_exporter": "python",
   "pygments_lexer": "ipython2",
   "version": "2.7.10"
  }
 },
 "nbformat": 4,
 "nbformat_minor": 0
}
