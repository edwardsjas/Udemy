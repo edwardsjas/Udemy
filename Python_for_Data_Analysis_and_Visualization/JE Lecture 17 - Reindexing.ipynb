{
 "cells": [
  {
   "cell_type": "code",
   "execution_count": 2,
   "metadata": {
    "collapsed": true
   },
   "outputs": [],
   "source": [
    "# Reindexing = change an index\n",
    "import numpy as np\n",
    "from pandas import Series,DataFrame\n",
    "import pandas as pd\n",
    "\n",
    "from numpy.random import randn\n"
   ]
  },
  {
   "cell_type": "code",
   "execution_count": 3,
   "metadata": {
    "collapsed": false
   },
   "outputs": [
    {
     "data": {
      "text/plain": [
       "A    1\n",
       "B    2\n",
       "C    3\n",
       "D    4\n",
       "dtype: int64"
      ]
     },
     "execution_count": 3,
     "metadata": {},
     "output_type": "execute_result"
    }
   ],
   "source": [
    "# Create a series\n",
    "# Show series\n",
    "ser1 = Series([1,2,3,4],index=['A','B','C','D'])\n",
    "ser1"
   ]
  },
  {
   "cell_type": "code",
   "execution_count": 5,
   "metadata": {
    "collapsed": false
   },
   "outputs": [
    {
     "data": {
      "text/plain": [
       "A     1\n",
       "B     2\n",
       "C     3\n",
       "D     4\n",
       "E   NaN\n",
       "F   NaN\n",
       "dtype: float64"
      ]
     },
     "execution_count": 5,
     "metadata": {},
     "output_type": "execute_result"
    }
   ],
   "source": [
    "# Rearrange data - reindex\n",
    "# Build a new series called ser2 off of ser1\n",
    "# E and F don't exist\n",
    "# Pandas will give a NULL value\n",
    "ser2 = ser1.reindex(['A','B','C','D','E','F'])\n",
    "ser2\n"
   ]
  },
  {
   "cell_type": "code",
   "execution_count": 8,
   "metadata": {
    "collapsed": false
   },
   "outputs": [
    {
     "data": {
      "text/plain": [
       "A     1\n",
       "B     2\n",
       "C     3\n",
       "D     4\n",
       "E   NaN\n",
       "F   NaN\n",
       "G     0\n",
       "dtype: float64"
      ]
     },
     "execution_count": 8,
     "metadata": {},
     "output_type": "execute_result"
    }
   ],
   "source": [
    "# Reindex series 2\n",
    "# original series 2 was A,B,C,D,e,f\n",
    "# Added a g\n",
    "# Returned 1 to 4 for orignal series, 2 nulls and a zero\n",
    "ser2.reindex(['A','B','C','D','E','F','G'],fill_value=0)"
   ]
  },
  {
   "cell_type": "code",
   "execution_count": 9,
   "metadata": {
    "collapsed": false
   },
   "outputs": [
    {
     "data": {
      "text/plain": [
       "0        USA\n",
       "5     Mexico\n",
       "10    Canada\n",
       "dtype: object"
      ]
     },
     "execution_count": 9,
     "metadata": {},
     "output_type": "execute_result"
    }
   ],
   "source": [
    "# create a series of countries\n",
    "ser3 = Series(['USA','Mexico','Canada'],index=[0,5,10])\n",
    "ser3"
   ]
  },
  {
   "cell_type": "code",
   "execution_count": 12,
   "metadata": {
    "collapsed": false
   },
   "outputs": [
    {
     "data": {
      "text/plain": [
       "[0, 1, 2, 3, 4, 5, 6, 7, 8, 9, 10, 11, 12, 13, 14]"
      ]
     },
     "execution_count": 12,
     "metadata": {},
     "output_type": "execute_result"
    }
   ],
   "source": [
    "# Create a range of 15 points\n",
    "ranger = range(15)\n",
    "ranger"
   ]
  },
  {
   "cell_type": "code",
   "execution_count": 16,
   "metadata": {
    "collapsed": false
   },
   "outputs": [
    {
     "data": {
      "text/plain": [
       "0        USA\n",
       "1        USA\n",
       "2        USA\n",
       "3        USA\n",
       "4        USA\n",
       "5     Mexico\n",
       "6     Mexico\n",
       "7     Mexico\n",
       "8     Mexico\n",
       "9     Mexico\n",
       "10    Canada\n",
       "11    Canada\n",
       "12    Canada\n",
       "13    Canada\n",
       "14    Canada\n",
       "dtype: object"
      ]
     },
     "execution_count": 16,
     "metadata": {},
     "output_type": "execute_result"
    }
   ],
   "source": [
    "# pass ranger to ser3.redinex\n",
    "# ffil = forward fill\n",
    "# forward fill USA to 4 before hit 5 which is Mexico\n",
    "# forward fill Mexico to 9 before hit 10 which is cANADA\n",
    "# forward fill Canada to 14 which is end of series\n",
    "ser3.reindex(ranger,method='ffill')"
   ]
  },
  {
   "cell_type": "code",
   "execution_count": 34,
   "metadata": {
    "collapsed": false
   },
   "outputs": [
    {
     "data": {
      "text/html": [
       "<div style=\"max-height:1000px;max-width:1500px;overflow:auto;\">\n",
       "<table border=\"1\" class=\"dataframe\">\n",
       "  <thead>\n",
       "    <tr style=\"text-align: right;\">\n",
       "      <th></th>\n",
       "      <th>col1</th>\n",
       "      <th>col2</th>\n",
       "      <th>col3</th>\n",
       "      <th>col4</th>\n",
       "      <th>col5</th>\n",
       "    </tr>\n",
       "  </thead>\n",
       "  <tbody>\n",
       "    <tr>\n",
       "      <th>A</th>\n",
       "      <td>-0.264936</td>\n",
       "      <td>-0.696078</td>\n",
       "      <td> 1.028603</td>\n",
       "      <td> 0.991500</td>\n",
       "      <td> 0.054977</td>\n",
       "    </tr>\n",
       "    <tr>\n",
       "      <th>B</th>\n",
       "      <td> 0.385057</td>\n",
       "      <td> 0.794441</td>\n",
       "      <td> 0.350756</td>\n",
       "      <td>-0.555892</td>\n",
       "      <td>-0.506770</td>\n",
       "    </tr>\n",
       "    <tr>\n",
       "      <th>D</th>\n",
       "      <td> 0.720832</td>\n",
       "      <td> 1.964836</td>\n",
       "      <td>-0.336094</td>\n",
       "      <td> 0.190251</td>\n",
       "      <td> 0.911449</td>\n",
       "    </tr>\n",
       "    <tr>\n",
       "      <th>E</th>\n",
       "      <td> 0.204069</td>\n",
       "      <td>-0.286924</td>\n",
       "      <td>-0.416174</td>\n",
       "      <td> 0.138967</td>\n",
       "      <td>-1.421700</td>\n",
       "    </tr>\n",
       "    <tr>\n",
       "      <th>F</th>\n",
       "      <td> 2.007016</td>\n",
       "      <td> 1.535242</td>\n",
       "      <td>-1.141049</td>\n",
       "      <td>-1.465277</td>\n",
       "      <td>-1.514384</td>\n",
       "    </tr>\n",
       "  </tbody>\n",
       "</table>\n",
       "</div>"
      ],
      "text/plain": [
       "       col1      col2      col3      col4      col5\n",
       "A -0.264936 -0.696078  1.028603  0.991500  0.054977\n",
       "B  0.385057  0.794441  0.350756 -0.555892 -0.506770\n",
       "D  0.720832  1.964836 -0.336094  0.190251  0.911449\n",
       "E  0.204069 -0.286924 -0.416174  0.138967 -1.421700\n",
       "F  2.007016  1.535242 -1.141049 -1.465277 -1.514384"
      ]
     },
     "execution_count": 34,
     "metadata": {},
     "output_type": "execute_result"
    }
   ],
   "source": [
    "# Reindex both rows and columns - create a dataframe\n",
    "# Create a data frame\n",
    "# Call DataFrame\n",
    "# Call 25 random numbers\n",
    "# Call (or pass) reshape to shape a 5 by 5 matrix instead of a straight vector\n",
    "# Give it an index - a letter index and skip 'C'\n",
    "# Pass the columns argument to set the column names\n",
    "dframe = DataFrame(randn(25).reshape((5,5)),index=['A','B','D','E','F'],\n",
    "                  columns=['col1','col2','col3','col4','col5'])\n",
    "dframe"
   ]
  },
  {
   "cell_type": "code",
   "execution_count": 25,
   "metadata": {
    "collapsed": false
   },
   "outputs": [
    {
     "data": {
      "text/html": [
       "<div style=\"max-height:1000px;max-width:1500px;overflow:auto;\">\n",
       "<table border=\"1\" class=\"dataframe\">\n",
       "  <thead>\n",
       "    <tr style=\"text-align: right;\">\n",
       "      <th></th>\n",
       "      <th>col1</th>\n",
       "      <th>col2</th>\n",
       "      <th>col3</th>\n",
       "      <th>col4</th>\n",
       "      <th>col5</th>\n",
       "    </tr>\n",
       "  </thead>\n",
       "  <tbody>\n",
       "    <tr>\n",
       "      <th>A</th>\n",
       "      <td>-0.555208</td>\n",
       "      <td>-0.781247</td>\n",
       "      <td>-0.656965</td>\n",
       "      <td>-1.095641</td>\n",
       "      <td>-0.148862</td>\n",
       "    </tr>\n",
       "    <tr>\n",
       "      <th>B</th>\n",
       "      <td>-1.811455</td>\n",
       "      <td>-1.174802</td>\n",
       "      <td> 0.254053</td>\n",
       "      <td>-0.452773</td>\n",
       "      <td> 1.971492</td>\n",
       "    </tr>\n",
       "    <tr>\n",
       "      <th>C</th>\n",
       "      <td>      NaN</td>\n",
       "      <td>      NaN</td>\n",
       "      <td>      NaN</td>\n",
       "      <td>      NaN</td>\n",
       "      <td>      NaN</td>\n",
       "    </tr>\n",
       "    <tr>\n",
       "      <th>D</th>\n",
       "      <td> 3.333729</td>\n",
       "      <td> 0.730302</td>\n",
       "      <td> 0.099898</td>\n",
       "      <td> 0.487727</td>\n",
       "      <td> 0.929000</td>\n",
       "    </tr>\n",
       "    <tr>\n",
       "      <th>E</th>\n",
       "      <td> 0.484092</td>\n",
       "      <td> 0.437517</td>\n",
       "      <td> 2.165253</td>\n",
       "      <td> 0.507692</td>\n",
       "      <td>-0.505378</td>\n",
       "    </tr>\n",
       "    <tr>\n",
       "      <th>F</th>\n",
       "      <td> 0.940578</td>\n",
       "      <td> 0.786361</td>\n",
       "      <td>-1.146698</td>\n",
       "      <td>-2.001129</td>\n",
       "      <td>-1.002854</td>\n",
       "    </tr>\n",
       "  </tbody>\n",
       "</table>\n",
       "</div>"
      ],
      "text/plain": [
       "       col1      col2      col3      col4      col5\n",
       "A -0.555208 -0.781247 -0.656965 -1.095641 -0.148862\n",
       "B -1.811455 -1.174802  0.254053 -0.452773  1.971492\n",
       "C       NaN       NaN       NaN       NaN       NaN\n",
       "D  3.333729  0.730302  0.099898  0.487727  0.929000\n",
       "E  0.484092  0.437517  2.165253  0.507692 -0.505378\n",
       "F  0.940578  0.786361 -1.146698 -2.001129 -1.002854"
      ]
     },
     "execution_count": 25,
     "metadata": {},
     "output_type": "execute_result"
    }
   ],
   "source": [
    "# Reindex the dataframe\n",
    "# Create a new data frame and reindex the old dataframe\n",
    "# Include 'C' index\n",
    "# Pandas will insert a row of NULL values for index 'C'\n",
    "dframe2 = dframe.reindex(['A','B','C','D','E','F'])\n",
    "dframe2"
   ]
  },
  {
   "cell_type": "code",
   "execution_count": 26,
   "metadata": {
    "collapsed": true
   },
   "outputs": [],
   "source": [
    "# Create a new list called new_columns\n",
    "# Add column 6\n",
    "new_columns = ['col1','col2','col3','col4','col5','col6']"
   ]
  },
  {
   "cell_type": "code",
   "execution_count": 27,
   "metadata": {
    "collapsed": false
   },
   "outputs": [
    {
     "data": {
      "text/html": [
       "<div style=\"max-height:1000px;max-width:1500px;overflow:auto;\">\n",
       "<table border=\"1\" class=\"dataframe\">\n",
       "  <thead>\n",
       "    <tr style=\"text-align: right;\">\n",
       "      <th></th>\n",
       "      <th>col1</th>\n",
       "      <th>col2</th>\n",
       "      <th>col3</th>\n",
       "      <th>col4</th>\n",
       "      <th>col5</th>\n",
       "      <th>col6</th>\n",
       "    </tr>\n",
       "  </thead>\n",
       "  <tbody>\n",
       "    <tr>\n",
       "      <th>A</th>\n",
       "      <td>-0.555208</td>\n",
       "      <td>-0.781247</td>\n",
       "      <td>-0.656965</td>\n",
       "      <td>-1.095641</td>\n",
       "      <td>-0.148862</td>\n",
       "      <td>NaN</td>\n",
       "    </tr>\n",
       "    <tr>\n",
       "      <th>B</th>\n",
       "      <td>-1.811455</td>\n",
       "      <td>-1.174802</td>\n",
       "      <td> 0.254053</td>\n",
       "      <td>-0.452773</td>\n",
       "      <td> 1.971492</td>\n",
       "      <td>NaN</td>\n",
       "    </tr>\n",
       "    <tr>\n",
       "      <th>C</th>\n",
       "      <td>      NaN</td>\n",
       "      <td>      NaN</td>\n",
       "      <td>      NaN</td>\n",
       "      <td>      NaN</td>\n",
       "      <td>      NaN</td>\n",
       "      <td>NaN</td>\n",
       "    </tr>\n",
       "    <tr>\n",
       "      <th>D</th>\n",
       "      <td> 3.333729</td>\n",
       "      <td> 0.730302</td>\n",
       "      <td> 0.099898</td>\n",
       "      <td> 0.487727</td>\n",
       "      <td> 0.929000</td>\n",
       "      <td>NaN</td>\n",
       "    </tr>\n",
       "    <tr>\n",
       "      <th>E</th>\n",
       "      <td> 0.484092</td>\n",
       "      <td> 0.437517</td>\n",
       "      <td> 2.165253</td>\n",
       "      <td> 0.507692</td>\n",
       "      <td>-0.505378</td>\n",
       "      <td>NaN</td>\n",
       "    </tr>\n",
       "    <tr>\n",
       "      <th>F</th>\n",
       "      <td> 0.940578</td>\n",
       "      <td> 0.786361</td>\n",
       "      <td>-1.146698</td>\n",
       "      <td>-2.001129</td>\n",
       "      <td>-1.002854</td>\n",
       "      <td>NaN</td>\n",
       "    </tr>\n",
       "  </tbody>\n",
       "</table>\n",
       "</div>"
      ],
      "text/plain": [
       "       col1      col2      col3      col4      col5  col6\n",
       "A -0.555208 -0.781247 -0.656965 -1.095641 -0.148862   NaN\n",
       "B -1.811455 -1.174802  0.254053 -0.452773  1.971492   NaN\n",
       "C       NaN       NaN       NaN       NaN       NaN   NaN\n",
       "D  3.333729  0.730302  0.099898  0.487727  0.929000   NaN\n",
       "E  0.484092  0.437517  2.165253  0.507692 -0.505378   NaN\n",
       "F  0.940578  0.786361 -1.146698 -2.001129 -1.002854   NaN"
      ]
     },
     "execution_count": 27,
     "metadata": {},
     "output_type": "execute_result"
    }
   ],
   "source": [
    "#Reindex dframe2 with new columns\n",
    "# Pandas will add column 6 with NULL values\n",
    "dframe2.reindex(columns=new_columns)"
   ]
  },
  {
   "cell_type": "code",
   "execution_count": 29,
   "metadata": {
    "collapsed": false
   },
   "outputs": [
    {
     "data": {
      "text/html": [
       "<div style=\"max-height:1000px;max-width:1500px;overflow:auto;\">\n",
       "<table border=\"1\" class=\"dataframe\">\n",
       "  <thead>\n",
       "    <tr style=\"text-align: right;\">\n",
       "      <th></th>\n",
       "      <th>col1</th>\n",
       "      <th>col2</th>\n",
       "      <th>col3</th>\n",
       "      <th>col4</th>\n",
       "      <th>col5</th>\n",
       "    </tr>\n",
       "  </thead>\n",
       "  <tbody>\n",
       "    <tr>\n",
       "      <th>A</th>\n",
       "      <td>-0.555208</td>\n",
       "      <td>-0.781247</td>\n",
       "      <td>-0.656965</td>\n",
       "      <td>-1.095641</td>\n",
       "      <td>-0.148862</td>\n",
       "    </tr>\n",
       "    <tr>\n",
       "      <th>B</th>\n",
       "      <td>-1.811455</td>\n",
       "      <td>-1.174802</td>\n",
       "      <td> 0.254053</td>\n",
       "      <td>-0.452773</td>\n",
       "      <td> 1.971492</td>\n",
       "    </tr>\n",
       "    <tr>\n",
       "      <th>D</th>\n",
       "      <td> 3.333729</td>\n",
       "      <td> 0.730302</td>\n",
       "      <td> 0.099898</td>\n",
       "      <td> 0.487727</td>\n",
       "      <td> 0.929000</td>\n",
       "    </tr>\n",
       "    <tr>\n",
       "      <th>E</th>\n",
       "      <td> 0.484092</td>\n",
       "      <td> 0.437517</td>\n",
       "      <td> 2.165253</td>\n",
       "      <td> 0.507692</td>\n",
       "      <td>-0.505378</td>\n",
       "    </tr>\n",
       "    <tr>\n",
       "      <th>F</th>\n",
       "      <td> 0.940578</td>\n",
       "      <td> 0.786361</td>\n",
       "      <td>-1.146698</td>\n",
       "      <td>-2.001129</td>\n",
       "      <td>-1.002854</td>\n",
       "    </tr>\n",
       "  </tbody>\n",
       "</table>\n",
       "</div>"
      ],
      "text/plain": [
       "       col1      col2      col3      col4      col5\n",
       "A -0.555208 -0.781247 -0.656965 -1.095641 -0.148862\n",
       "B -1.811455 -1.174802  0.254053 -0.452773  1.971492\n",
       "D  3.333729  0.730302  0.099898  0.487727  0.929000\n",
       "E  0.484092  0.437517  2.165253  0.507692 -0.505378\n",
       "F  0.940578  0.786361 -1.146698 -2.001129 -1.002854"
      ]
     },
     "execution_count": 29,
     "metadata": {},
     "output_type": "execute_result"
    }
   ],
   "source": [
    "# Show original dframe\n",
    "dframe"
   ]
  },
  {
   "cell_type": "code",
   "execution_count": 36,
   "metadata": {
    "collapsed": false
   },
   "outputs": [
    {
     "data": {
      "text/html": [
       "<div style=\"max-height:1000px;max-width:1500px;overflow:auto;\">\n",
       "<table border=\"1\" class=\"dataframe\">\n",
       "  <thead>\n",
       "    <tr style=\"text-align: right;\">\n",
       "      <th></th>\n",
       "      <th>col1</th>\n",
       "      <th>col2</th>\n",
       "      <th>col3</th>\n",
       "      <th>col4</th>\n",
       "      <th>col5</th>\n",
       "      <th>col6</th>\n",
       "    </tr>\n",
       "  </thead>\n",
       "  <tbody>\n",
       "    <tr>\n",
       "      <th>A</th>\n",
       "      <td>-0.264936</td>\n",
       "      <td>-0.696078</td>\n",
       "      <td> 1.028603</td>\n",
       "      <td> 0.991500</td>\n",
       "      <td> 0.054977</td>\n",
       "      <td>NaN</td>\n",
       "    </tr>\n",
       "    <tr>\n",
       "      <th>B</th>\n",
       "      <td> 0.385057</td>\n",
       "      <td> 0.794441</td>\n",
       "      <td> 0.350756</td>\n",
       "      <td>-0.555892</td>\n",
       "      <td>-0.506770</td>\n",
       "      <td>NaN</td>\n",
       "    </tr>\n",
       "    <tr>\n",
       "      <th>C</th>\n",
       "      <td>      NaN</td>\n",
       "      <td>      NaN</td>\n",
       "      <td>      NaN</td>\n",
       "      <td>      NaN</td>\n",
       "      <td>      NaN</td>\n",
       "      <td>NaN</td>\n",
       "    </tr>\n",
       "    <tr>\n",
       "      <th>D</th>\n",
       "      <td> 0.720832</td>\n",
       "      <td> 1.964836</td>\n",
       "      <td>-0.336094</td>\n",
       "      <td> 0.190251</td>\n",
       "      <td> 0.911449</td>\n",
       "      <td>NaN</td>\n",
       "    </tr>\n",
       "    <tr>\n",
       "      <th>E</th>\n",
       "      <td> 0.204069</td>\n",
       "      <td>-0.286924</td>\n",
       "      <td>-0.416174</td>\n",
       "      <td> 0.138967</td>\n",
       "      <td>-1.421700</td>\n",
       "      <td>NaN</td>\n",
       "    </tr>\n",
       "    <tr>\n",
       "      <th>F</th>\n",
       "      <td> 2.007016</td>\n",
       "      <td> 1.535242</td>\n",
       "      <td>-1.141049</td>\n",
       "      <td>-1.465277</td>\n",
       "      <td>-1.514384</td>\n",
       "      <td>NaN</td>\n",
       "    </tr>\n",
       "  </tbody>\n",
       "</table>\n",
       "</div>"
      ],
      "text/plain": [
       "       col1      col2      col3      col4      col5  col6\n",
       "A -0.264936 -0.696078  1.028603  0.991500  0.054977   NaN\n",
       "B  0.385057  0.794441  0.350756 -0.555892 -0.506770   NaN\n",
       "C       NaN       NaN       NaN       NaN       NaN   NaN\n",
       "D  0.720832  1.964836 -0.336094  0.190251  0.911449   NaN\n",
       "E  0.204069 -0.286924 -0.416174  0.138967 -1.421700   NaN\n",
       "F  2.007016  1.535242 -1.141049 -1.465277 -1.514384   NaN"
      ]
     },
     "execution_count": 36,
     "metadata": {},
     "output_type": "execute_result"
    }
   ],
   "source": [
    "# Quickly reindex dframe using .ix\n",
    "# Call ix\n",
    "# First argument it takes is rows\n",
    "# Second argument it takes is columns\n",
    "dframe.ix[['A','B','C','D','E','F'],new_columns]"
   ]
  },
  {
   "cell_type": "code",
   "execution_count": null,
   "metadata": {
    "collapsed": true
   },
   "outputs": [],
   "source": []
  }
 ],
 "metadata": {
  "kernelspec": {
   "display_name": "Python 2",
   "language": "python",
   "name": "python2"
  },
  "language_info": {
   "codemirror_mode": {
    "name": "ipython",
    "version": 2
   },
   "file_extension": ".py",
   "mimetype": "text/x-python",
   "name": "python",
   "nbconvert_exporter": "python",
   "pygments_lexer": "ipython2",
   "version": "2.7.9"
  }
 },
 "nbformat": 4,
 "nbformat_minor": 0
}
