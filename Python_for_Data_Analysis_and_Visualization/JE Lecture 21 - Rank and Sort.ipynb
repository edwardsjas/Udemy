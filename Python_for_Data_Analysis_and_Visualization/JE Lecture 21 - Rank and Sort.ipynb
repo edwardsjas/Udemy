{
 "cells": [
  {
   "cell_type": "code",
   "execution_count": 4,
   "metadata": {
    "collapsed": false
   },
   "outputs": [],
   "source": [
    "import numpy as np\n",
    "from pandas import Series, DataFrame\n",
    "import pandas as pd"
   ]
  },
  {
   "cell_type": "code",
   "execution_count": 7,
   "metadata": {
    "collapsed": false
   },
   "outputs": [
    {
     "data": {
      "text/plain": [
       "C    0\n",
       "B    1\n",
       "A    2\n",
       "dtype: int64"
      ]
     },
     "execution_count": 7,
     "metadata": {},
     "output_type": "execute_result"
    }
   ],
   "source": [
    "# Make a series with 3 points\n",
    "# Pass the index argument\n",
    "# Show series1, there will be no order\n",
    "ser1 = Series(range(3),index=['C','B','A'])\n",
    "ser1"
   ]
  },
  {
   "cell_type": "code",
   "execution_count": 8,
   "metadata": {
    "collapsed": false
   },
   "outputs": [
    {
     "data": {
      "text/plain": [
       "A    2\n",
       "B    1\n",
       "C    0\n",
       "dtype: int64"
      ]
     },
     "execution_count": 8,
     "metadata": {},
     "output_type": "execute_result"
    }
   ],
   "source": [
    "# Sort by Index, use index\n",
    "ser1.sort_index()"
   ]
  },
  {
   "cell_type": "code",
   "execution_count": 9,
   "metadata": {
    "collapsed": false
   },
   "outputs": [
    {
     "data": {
      "text/plain": [
       "C    0\n",
       "B    1\n",
       "A    2\n",
       "dtype: int64"
      ]
     },
     "execution_count": 9,
     "metadata": {},
     "output_type": "execute_result"
    }
   ],
   "source": [
    "#Sort by value, use order\n",
    "ser1.order()"
   ]
  },
  {
   "cell_type": "code",
   "execution_count": 10,
   "metadata": {
    "collapsed": true
   },
   "outputs": [],
   "source": [
    "# Ranking\n",
    "#Create a new series of 10 random numbers\n",
    "from numpy.random import randn"
   ]
  },
  {
   "cell_type": "code",
   "execution_count": 11,
   "metadata": {
    "collapsed": false
   },
   "outputs": [
    {
     "data": {
      "text/plain": [
       "0    1.139819\n",
       "1   -1.279430\n",
       "2    0.012416\n",
       "3   -1.208809\n",
       "4   -0.227417\n",
       "5    0.061442\n",
       "6    1.516184\n",
       "7    0.032291\n",
       "8    0.306202\n",
       "9    0.725087\n",
       "dtype: float64"
      ]
     },
     "execution_count": 11,
     "metadata": {},
     "output_type": "execute_result"
    }
   ],
   "source": [
    "ser2 = Series(randn(10))\n",
    "ser2"
   ]
  },
  {
   "cell_type": "code",
   "execution_count": 12,
   "metadata": {
    "collapsed": false
   },
   "outputs": [
    {
     "data": {
      "text/plain": [
       "1   -1.279430\n",
       "3   -1.208809\n",
       "4   -0.227417\n",
       "2    0.012416\n",
       "7    0.032291\n",
       "5    0.061442\n",
       "8    0.306202\n",
       "9    0.725087\n",
       "0    1.139819\n",
       "6    1.516184\n",
       "dtype: float64"
      ]
     },
     "execution_count": 12,
     "metadata": {},
     "output_type": "execute_result"
    }
   ],
   "source": [
    "# Sort by lowest value to highest\n",
    "# The index values will be jumbled up\n",
    "ser2.sort()\n",
    "ser2"
   ]
  },
  {
   "cell_type": "code",
   "execution_count": 13,
   "metadata": {
    "collapsed": false
   },
   "outputs": [
    {
     "data": {
      "text/plain": [
       "1     1\n",
       "3     2\n",
       "4     3\n",
       "2     4\n",
       "7     5\n",
       "5     6\n",
       "8     7\n",
       "9     8\n",
       "0     9\n",
       "6    10\n",
       "dtype: float64"
      ]
     },
     "execution_count": 13,
     "metadata": {},
     "output_type": "execute_result"
    }
   ],
   "source": [
    "# To know rank on a series\n",
    "# Call rank on a series\n",
    "# The left column is the index values from ser2 from above\n",
    "# The right column is the rank in order\n",
    "ser2.rank()"
   ]
  },
  {
   "cell_type": "code",
   "execution_count": 15,
   "metadata": {
    "collapsed": false
   },
   "outputs": [
    {
     "data": {
      "text/plain": [
       "0    2.315405\n",
       "1    0.483637\n",
       "2   -0.552417\n",
       "3   -0.268087\n",
       "4   -1.694488\n",
       "5    1.391790\n",
       "6    1.902943\n",
       "7   -0.421258\n",
       "8    0.808583\n",
       "9    0.548828\n",
       "dtype: float64"
      ]
     },
     "execution_count": 15,
     "metadata": {},
     "output_type": "execute_result"
    }
   ],
   "source": [
    "# Create a series 3 of 10 random numbers\n",
    "# Check rank before sort them\n",
    "# The index will be in order, not the rank\n",
    "ser3 = Series(randn(10))\n",
    "ser3"
   ]
  },
  {
   "cell_type": "code",
   "execution_count": 16,
   "metadata": {
    "collapsed": false
   },
   "outputs": [
    {
     "data": {
      "text/plain": [
       "0    10\n",
       "1     5\n",
       "2     2\n",
       "3     4\n",
       "4     1\n",
       "5     8\n",
       "6     9\n",
       "7     3\n",
       "8     7\n",
       "9     6\n",
       "dtype: float64"
      ]
     },
     "execution_count": 16,
     "metadata": {},
     "output_type": "execute_result"
    }
   ],
   "source": [
    "# Check out the rank before sort them\n",
    "ser3.rank()"
   ]
  },
  {
   "cell_type": "code",
   "execution_count": 20,
   "metadata": {
    "collapsed": false
   },
   "outputs": [
    {
     "data": {
      "text/plain": [
       "4     1\n",
       "2     2\n",
       "7     3\n",
       "3     4\n",
       "1     5\n",
       "9     6\n",
       "8     7\n",
       "5     8\n",
       "6     9\n",
       "0    10\n",
       "dtype: float64"
      ]
     },
     "execution_count": 20,
     "metadata": {},
     "output_type": "execute_result"
    }
   ],
   "source": [
    "# Sort series 3 by rank\n",
    "ser3.sort()\n",
    "ser3.rank()"
   ]
  },
  {
   "cell_type": "code",
   "execution_count": 21,
   "metadata": {
    "collapsed": false
   },
   "outputs": [
    {
     "data": {
      "text/plain": [
       "4   -1.694488\n",
       "2   -0.552417\n",
       "7   -0.421258\n",
       "3   -0.268087\n",
       "1    0.483637\n",
       "9    0.548828\n",
       "8    0.808583\n",
       "5    1.391790\n",
       "6    1.902943\n",
       "0    2.315405\n",
       "dtype: float64"
      ]
     },
     "execution_count": 21,
     "metadata": {},
     "output_type": "execute_result"
    }
   ],
   "source": [
    "# Everything is now sorted by rank\n",
    "ser3"
   ]
  },
  {
   "cell_type": "code",
   "execution_count": null,
   "metadata": {
    "collapsed": true
   },
   "outputs": [],
   "source": []
  }
 ],
 "metadata": {
  "kernelspec": {
   "display_name": "Python 2",
   "language": "python",
   "name": "python2"
  },
  "language_info": {
   "codemirror_mode": {
    "name": "ipython",
    "version": 2
   },
   "file_extension": ".py",
   "mimetype": "text/x-python",
   "name": "python",
   "nbconvert_exporter": "python",
   "pygments_lexer": "ipython2",
   "version": "2.7.9"
  }
 },
 "nbformat": 4,
 "nbformat_minor": 0
}
